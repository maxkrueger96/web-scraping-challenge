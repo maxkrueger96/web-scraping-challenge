{
 "cells": [
  {
   "cell_type": "code",
   "execution_count": 166,
   "source": [
    "#import modules\n",
    "from bs4 import BeautifulSoup as bs\n",
    "import pandas as pd\n",
    "import requests\n",
    "from splinter import Browser\n",
    "from selenium import webdriver"
   ],
   "outputs": [],
   "metadata": {}
  },
  {
   "cell_type": "code",
   "execution_count": 167,
   "source": [
    "#link to chromedriver.exe\n",
    "executable_path = {'executable_path':'/usr/local/bin/chromedriver'}"
   ],
   "outputs": [],
   "metadata": {}
  },
  {
   "cell_type": "code",
   "execution_count": 358,
   "source": [
    "#function that opens browser, parses html, and closes browser\n",
    "def parse(url):\n",
    "    with Browser('chrome',**executable_path) as browse:\n",
    "        browse.visit(url)\n",
    "        html = browse.html\n",
    "\n",
    "        return bs(html, 'html.parser')"
   ],
   "outputs": [],
   "metadata": {}
  },
  {
   "cell_type": "code",
   "execution_count": 324,
   "source": [
    "#html for mars news\n",
    "marsite = \"https://redplanetscience.com/\"\n",
    "\n",
    "marsoup = parse(marsite)"
   ],
   "outputs": [],
   "metadata": {}
  },
  {
   "cell_type": "code",
   "execution_count": 446,
   "source": [
    "#scrape title and summary of feature news article\n",
    "titles = marsoup.find_all('div', class_=\"content_title\")\n",
    "html_news = titles[0]\n",
    "news_title = html_news.text\n",
    "\n",
    "html_pgrph = html_news.findNextSibling()\n",
    "news_pgrph = html_pgrph.text\n",
    "print(f'{news_title}\\n-----------------------\\n{news_pgrph}')"
   ],
   "outputs": [
    {
     "output_type": "stream",
     "name": "stdout",
     "text": [
      "From JPL's Mailroom to Mars and Beyond\n",
      "-----------------------\n",
      "Bill Allen has thrived as the mechanical systems design lead for three Mars rover missions, but he got his start as a teenager sorting letters for the NASA center.\n"
     ]
    }
   ],
   "metadata": {}
  },
  {
   "cell_type": "code",
   "execution_count": 417,
   "source": [
    "#html for mars images\n",
    "featurl = \"https://spaceimages-mars.com/\"\n",
    "\n",
    "imgsoup = parse(featurl)"
   ],
   "outputs": [],
   "metadata": {}
  },
  {
   "cell_type": "code",
   "execution_count": 419,
   "source": [
    "#scrape featureimage\n",
    "imgs = imgsoup.find_all('img')\n",
    "srcs = []\n",
    "for im in imgs:\n",
    "    srcs.append(im['src'])\n",
    "urlend = srcs[1]\n",
    "urlend"
   ],
   "outputs": [
    {
     "output_type": "execute_result",
     "data": {
      "text/plain": [
       "'image/featured/mars2.jpg'"
      ]
     },
     "metadata": {},
     "execution_count": 419
    }
   ],
   "metadata": {}
  },
  {
   "cell_type": "code",
   "execution_count": 420,
   "source": [
    "#concatenate the image page url with the feature image suffix\n",
    "featimg_url = featurl + urlend\n",
    "print(featimg_url)"
   ],
   "outputs": [
    {
     "output_type": "stream",
     "name": "stdout",
     "text": [
      "https://spaceimages-mars.com/image/featured/mars2.jpg\n"
     ]
    }
   ],
   "metadata": {}
  },
  {
   "cell_type": "code",
   "execution_count": 239,
   "source": [
    "#html for mars fact tables\n",
    "factsurl = \"https://galaxyfacts-mars.com/\"\n",
    "\n",
    "tables = pd.read_html(factsurl)\n"
   ],
   "outputs": [],
   "metadata": {}
  },
  {
   "cell_type": "code",
   "execution_count": 241,
   "source": [
    "#grab table 0 with pandas\n",
    "marscompare = tables[0].set_index(tables[0][0])\n",
    "marscompare.drop(columns=0,inplace=True)\n",
    "marscompare.rename(columns = {1: \"Mars\", 2: \"Earth\"},inplace=True)\n",
    "marscompare.drop(\"Mars - Earth Comparison\",inplace=True)\n",
    "marscompare.index.name = \"Mars - Earth Comparison\""
   ],
   "outputs": [],
   "metadata": {}
  },
  {
   "cell_type": "code",
   "execution_count": 242,
   "source": [
    "#mars-earth comparison table\n",
    "marscompare"
   ],
   "outputs": [
    {
     "output_type": "execute_result",
     "data": {
      "text/html": [
       "<div>\n",
       "<style scoped>\n",
       "    .dataframe tbody tr th:only-of-type {\n",
       "        vertical-align: middle;\n",
       "    }\n",
       "\n",
       "    .dataframe tbody tr th {\n",
       "        vertical-align: top;\n",
       "    }\n",
       "\n",
       "    .dataframe thead th {\n",
       "        text-align: right;\n",
       "    }\n",
       "</style>\n",
       "<table border=\"1\" class=\"dataframe\">\n",
       "  <thead>\n",
       "    <tr style=\"text-align: right;\">\n",
       "      <th></th>\n",
       "      <th>Mars</th>\n",
       "      <th>Earth</th>\n",
       "    </tr>\n",
       "    <tr>\n",
       "      <th>Mars - Earth Comparison</th>\n",
       "      <th></th>\n",
       "      <th></th>\n",
       "    </tr>\n",
       "  </thead>\n",
       "  <tbody>\n",
       "    <tr>\n",
       "      <th>Diameter:</th>\n",
       "      <td>6,779 km</td>\n",
       "      <td>12,742 km</td>\n",
       "    </tr>\n",
       "    <tr>\n",
       "      <th>Mass:</th>\n",
       "      <td>6.39 × 10^23 kg</td>\n",
       "      <td>5.97 × 10^24 kg</td>\n",
       "    </tr>\n",
       "    <tr>\n",
       "      <th>Moons:</th>\n",
       "      <td>2</td>\n",
       "      <td>1</td>\n",
       "    </tr>\n",
       "    <tr>\n",
       "      <th>Distance from Sun:</th>\n",
       "      <td>227,943,824 km</td>\n",
       "      <td>149,598,262 km</td>\n",
       "    </tr>\n",
       "    <tr>\n",
       "      <th>Length of Year:</th>\n",
       "      <td>687 Earth days</td>\n",
       "      <td>365.24 days</td>\n",
       "    </tr>\n",
       "    <tr>\n",
       "      <th>Temperature:</th>\n",
       "      <td>-87 to -5 °C</td>\n",
       "      <td>-88 to 58°C</td>\n",
       "    </tr>\n",
       "  </tbody>\n",
       "</table>\n",
       "</div>"
      ],
      "text/plain": [
       "                                    Mars            Earth\n",
       "Mars - Earth Comparison                                  \n",
       "Diameter:                       6,779 km        12,742 km\n",
       "Mass:                    6.39 × 10^23 kg  5.97 × 10^24 kg\n",
       "Moons:                                 2                1\n",
       "Distance from Sun:        227,943,824 km   149,598,262 km\n",
       "Length of Year:           687 Earth days      365.24 days\n",
       "Temperature:                -87 to -5 °C      -88 to 58°C"
      ]
     },
     "metadata": {},
     "execution_count": 242
    }
   ],
   "metadata": {}
  },
  {
   "cell_type": "code",
   "execution_count": 430,
   "source": [
    "marscomparehtml = marscompare.to_html().replace(\"\\n\", '')"
   ],
   "outputs": [],
   "metadata": {}
  },
  {
   "cell_type": "code",
   "execution_count": 249,
   "source": [
    "#grab table 1 with pandas\n",
    "marsfcts = tables[1].set_index(tables[1][0])\n",
    "marsfcts.drop(columns=0,inplace=True)\n",
    "marsfcts.rename(columns = {1: \"Mars\"},inplace=True)\n",
    "marsfcts.index.name = \"Mars Facts\""
   ],
   "outputs": [],
   "metadata": {}
  },
  {
   "cell_type": "code",
   "execution_count": 250,
   "source": [
    "#other mars facts table\n",
    "marsfcts"
   ],
   "outputs": [
    {
     "output_type": "execute_result",
     "data": {
      "text/html": [
       "<div>\n",
       "<style scoped>\n",
       "    .dataframe tbody tr th:only-of-type {\n",
       "        vertical-align: middle;\n",
       "    }\n",
       "\n",
       "    .dataframe tbody tr th {\n",
       "        vertical-align: top;\n",
       "    }\n",
       "\n",
       "    .dataframe thead th {\n",
       "        text-align: right;\n",
       "    }\n",
       "</style>\n",
       "<table border=\"1\" class=\"dataframe\">\n",
       "  <thead>\n",
       "    <tr style=\"text-align: right;\">\n",
       "      <th></th>\n",
       "      <th>Mars</th>\n",
       "    </tr>\n",
       "    <tr>\n",
       "      <th>Mars Facts</th>\n",
       "      <th></th>\n",
       "    </tr>\n",
       "  </thead>\n",
       "  <tbody>\n",
       "    <tr>\n",
       "      <th>Equatorial Diameter:</th>\n",
       "      <td>6,792 km</td>\n",
       "    </tr>\n",
       "    <tr>\n",
       "      <th>Polar Diameter:</th>\n",
       "      <td>6,752 km</td>\n",
       "    </tr>\n",
       "    <tr>\n",
       "      <th>Mass:</th>\n",
       "      <td>6.39 × 10^23 kg (0.11 Earths)</td>\n",
       "    </tr>\n",
       "    <tr>\n",
       "      <th>Moons:</th>\n",
       "      <td>2 ( Phobos &amp; Deimos )</td>\n",
       "    </tr>\n",
       "    <tr>\n",
       "      <th>Orbit Distance:</th>\n",
       "      <td>227,943,824 km (1.38 AU)</td>\n",
       "    </tr>\n",
       "    <tr>\n",
       "      <th>Orbit Period:</th>\n",
       "      <td>687 days (1.9 years)</td>\n",
       "    </tr>\n",
       "    <tr>\n",
       "      <th>Surface Temperature:</th>\n",
       "      <td>-87 to -5 °C</td>\n",
       "    </tr>\n",
       "    <tr>\n",
       "      <th>First Record:</th>\n",
       "      <td>2nd millennium BC</td>\n",
       "    </tr>\n",
       "    <tr>\n",
       "      <th>Recorded By:</th>\n",
       "      <td>Egyptian astronomers</td>\n",
       "    </tr>\n",
       "  </tbody>\n",
       "</table>\n",
       "</div>"
      ],
      "text/plain": [
       "                                               Mars\n",
       "Mars Facts                                         \n",
       "Equatorial Diameter:                       6,792 km\n",
       "Polar Diameter:                            6,752 km\n",
       "Mass:                 6.39 × 10^23 kg (0.11 Earths)\n",
       "Moons:                        2 ( Phobos & Deimos )\n",
       "Orbit Distance:            227,943,824 km (1.38 AU)\n",
       "Orbit Period:                  687 days (1.9 years)\n",
       "Surface Temperature:                   -87 to -5 °C\n",
       "First Record:                     2nd millennium BC\n",
       "Recorded By:                   Egyptian astronomers"
      ]
     },
     "metadata": {},
     "execution_count": 250
    }
   ],
   "metadata": {}
  },
  {
   "cell_type": "code",
   "execution_count": 429,
   "source": [
    "marsfctshtml = marsfcts.to_html().replace(\"\\n\", '')"
   ],
   "outputs": [],
   "metadata": {}
  },
  {
   "cell_type": "code",
   "execution_count": 425,
   "source": [
    "#html of hemisphere page\n",
    "geourl = \"https://marshemispheres.com/\"\n",
    "geohtml = parse(geourl)"
   ],
   "outputs": [],
   "metadata": {}
  },
  {
   "cell_type": "code",
   "execution_count": 337,
   "source": [
    "#scrape the links for the full-size image pages\n",
    "linkhref = []\n",
    "for link in geohtml.findAll(\"a\",class_=\"itemLink product-item\"):\n",
    "    linkhref.append(link[\"href\"])\n",
    "for href in linkhref:\n",
    "    i = linkhref.index(href)\n",
    "    if href in [linkhref[j] for j in range(0,len(linkhref)) if j != i]:\n",
    "        del linkhref[i]\n",
    "del linkhref[-1]\n",
    "linkhref\n"
   ],
   "outputs": [
    {
     "output_type": "execute_result",
     "data": {
      "text/plain": [
       "['cerberus.html', 'schiaparelli.html', 'syrtis.html', 'valles.html']"
      ]
     },
     "metadata": {},
     "execution_count": 337
    }
   ],
   "metadata": {}
  },
  {
   "cell_type": "code",
   "execution_count": 441,
   "source": [
    "hrefname = []\n",
    "for href in linkhref:\n",
    "    name = href[0:-5]\n",
    "    hrefname.append(name)\n",
    "hrefname"
   ],
   "outputs": [
    {
     "output_type": "execute_result",
     "data": {
      "text/plain": [
       "['cerberus', 'schiaparelli', 'syrtis', 'valles']"
      ]
     },
     "metadata": {},
     "execution_count": 441
    }
   ],
   "metadata": {}
  },
  {
   "cell_type": "code",
   "execution_count": 442,
   "source": [
    "#get html for each full-size image page\n",
    "htmls = dict.fromkeys(hrefname)\n",
    "for href in hrefname:\n",
    "    with Browser('chrome', **executable_path) as browse:\n",
    "        browse.visit(geourl+href+'.html')\n",
    "        htmls[href] = bs(browse.html,'html.parser')"
   ],
   "outputs": [],
   "metadata": {}
  },
  {
   "cell_type": "code",
   "execution_count": 445,
   "source": [
    "#scrape the title and img url from the full-size image pages\n",
    "hemimglinks = dict.fromkeys(hrefname)\n",
    "for i in range(4):\n",
    "    titles = dict.fromkeys(['title','img_url'])\n",
    "    a = htmls[hrefname[i]].find('a',text='Sample')\n",
    "    h2 = htmls[hrefname[i]].find('h2', class_=\"title\")\n",
    "    titles['title'] = h2.text\n",
    "    titles['img_url'] = geourl+a['href']\n",
    "    hemimglinks[hrefname[i]] = titles\n",
    "hemimglinks"
   ],
   "outputs": [
    {
     "output_type": "execute_result",
     "data": {
      "text/plain": [
       "{'cerberus': {'title': 'Cerberus Hemisphere Enhanced',\n",
       "  'img_url': 'https://marshemispheres.com/images/full.jpg'},\n",
       " 'schiaparelli': {'title': 'Schiaparelli Hemisphere Enhanced',\n",
       "  'img_url': 'https://marshemispheres.com/images/schiaparelli_enhanced-full.jpg'},\n",
       " 'syrtis': {'title': 'Syrtis Major Hemisphere Enhanced',\n",
       "  'img_url': 'https://marshemispheres.com/images/syrtis_major_enhanced-full.jpg'},\n",
       " 'valles': {'title': 'Valles Marineris Hemisphere Enhanced',\n",
       "  'img_url': 'https://marshemispheres.com/images/valles_marineris_enhanced-full.jpg'}}"
      ]
     },
     "metadata": {},
     "execution_count": 445
    }
   ],
   "metadata": {}
  }
 ],
 "metadata": {
  "orig_nbformat": 4,
  "language_info": {
   "name": "python",
   "version": "3.8.8",
   "mimetype": "text/x-python",
   "codemirror_mode": {
    "name": "ipython",
    "version": 3
   },
   "pygments_lexer": "ipython3",
   "nbconvert_exporter": "python",
   "file_extension": ".py"
  },
  "kernelspec": {
   "name": "python3",
   "display_name": "Python 3.8.8 64-bit ('base': conda)"
  },
  "interpreter": {
   "hash": "3056ff0f1845929a8989f1bded2e103b0e50e44d85bf2567aa5138af1ce355cd"
  }
 },
 "nbformat": 4,
 "nbformat_minor": 2
}